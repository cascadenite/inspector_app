{
  "nbformat": 4,
  "nbformat_minor": 0,
  "metadata": {
    "accelerator": "GPU",
    "colab": {
      "name": "Mobile copy of Training Object Detection with TensorFlow in Colab.ipynb",
      "provenance": [],
      "collapsed_sections": [],
      "toc_visible": true,
      "machine_shape": "hm",
      "include_colab_link": true
    },
    "kernelspec": {
      "display_name": "Python 3",
      "name": "python3"
    }
  },
  "cells": [
    {
      "cell_type": "markdown",
      "metadata": {
        "id": "view-in-github",
        "colab_type": "text"
      },
      "source": [
        "<a href=\"https://colab.research.google.com/github/cascadenite/inspector_app/blob/main/Mobile_copy_of_Training_Object_Detection_with_TensorFlow_in_Colab.ipynb\" target=\"_parent\"><img src=\"https://colab.research.google.com/assets/colab-badge.svg\" alt=\"Open In Colab\"/></a>"
      ]
    },
    {
      "cell_type": "markdown",
      "metadata": {
        "id": "QEQkK9M_gVBB"
      },
      "source": [
        "#    Training an Object Detection Model with TensorFlow API using Google COLAB\n",
        "\n",
        "Using a fast RCNN model on just 2 classes got loss down to 0.1 and tested very well.  However that model is not suitable for mobile so this copy will try one of  the more recent mobile models.\n",
        "\n",
        "\n",
        "> Follow this medium post for the tutorial. https://medium.com/analytics-vidhya/training-an-object-detection-model-with-tensorflow-api-using-google-colab-4f9a688d5e8b\n",
        "\n",
        "\n",
        "This one for how to mobile it:\n",
        "\n",
        "https://towardsdatascience.com/real-time-mobile-video-object-detection-using-tensorflow-a75fa0c5859d\n",
        "\n",
        "https://github.com/ivanliu1989/Real-time-Mobile-Video-Object-Detection\n",
        "\n",
        "\n",
        ">  go to Runtime > Change Runtime Type and make sure to select GPU as Hardware accelerator.\n",
        "\n",
        "\n"
      ]
    },
    {
      "cell_type": "markdown",
      "metadata": {
        "id": "Al3Ps4r9rK80"
      },
      "source": [
        "# import and builds"
      ]
    },
    {
      "cell_type": "code",
      "metadata": {
        "colab": {
          "base_uri": "https://localhost:8080/"
        },
        "id": "EtzbD7bGIZYF",
        "outputId": "5f1876e0-938f-48ef-99d1-3ffc31e3bc59"
      },
      "source": [
        "%tensorflow_version 1.x"
      ],
      "execution_count": 1,
      "outputs": [
        {
          "output_type": "stream",
          "text": [
            "TensorFlow 1.x selected.\n"
          ],
          "name": "stdout"
        }
      ]
    },
    {
      "cell_type": "code",
      "metadata": {
        "colab": {
          "base_uri": "https://localhost:8080/"
        },
        "id": "K5blGTazUTft",
        "outputId": "26c0d695-e7cf-4096-e924-0088a887be4f"
      },
      "source": [
        "import tensorflow as tf\n",
        "device_name = tf.test.gpu_device_name()\n",
        "if device_name != '/device:GPU:0':\n",
        "   raise SystemError('GPU device not found')\n",
        "print('Found GPU at: {}'.format(device_name))\n",
        "print(tf.__version__)"
      ],
      "execution_count": 2,
      "outputs": [
        {
          "output_type": "stream",
          "text": [
            "Found GPU at: /device:GPU:0\n",
            "1.15.2\n"
          ],
          "name": "stdout"
        }
      ]
    },
    {
      "cell_type": "code",
      "metadata": {
        "id": "UWzl2sagzfVX"
      },
      "source": [
        "import tensorflow as tf"
      ],
      "execution_count": 3,
      "outputs": []
    },
    {
      "cell_type": "code",
      "metadata": {
        "colab": {
          "base_uri": "https://localhost:8080/"
        },
        "id": "yKilyja_ra-T",
        "outputId": "b27df667-3fdf-484f-b6e2-412c5036329b"
      },
      "source": [
        "print(tf.__version__)"
      ],
      "execution_count": 4,
      "outputs": [
        {
          "output_type": "stream",
          "text": [
            "1.15.2\n"
          ],
          "name": "stdout"
        }
      ]
    },
    {
      "cell_type": "code",
      "metadata": {
        "colab": {
          "base_uri": "https://localhost:8080/"
        },
        "id": "rOYNHYVdUa1H",
        "outputId": "b62266b8-d3f2-4527-f506-850ba9527798"
      },
      "source": [
        "from google.colab import drive\n",
        "drive.mount('/content/gdrive')"
      ],
      "execution_count": 5,
      "outputs": [
        {
          "output_type": "stream",
          "text": [
            "Mounted at /content/gdrive\n"
          ],
          "name": "stdout"
        }
      ]
    },
    {
      "cell_type": "code",
      "metadata": {
        "colab": {
          "base_uri": "https://localhost:8080/"
        },
        "id": "AqqsPh9uU1q-",
        "outputId": "8b24f662-78f0-402c-f220-62bf5678888f"
      },
      "source": [
        "%cd '/content/gdrive/My Drive/Inspector'\n"
      ],
      "execution_count": 6,
      "outputs": [
        {
          "output_type": "stream",
          "text": [
            "/content/gdrive/My Drive/Inspector\n"
          ],
          "name": "stdout"
        }
      ]
    },
    {
      "cell_type": "markdown",
      "metadata": {
        "id": "Dro4CRIRi72C"
      },
      "source": [
        "Install some needed tools and dependencies."
      ]
    },
    {
      "cell_type": "code",
      "metadata": {
        "id": "0zmVdivOVW8x"
      },
      "source": [
        "!apt-get install protobuf-compiler python-pil python-lxml python-tk\n",
        "!pip install Cython"
      ],
      "execution_count": null,
      "outputs": []
    },
    {
      "cell_type": "code",
      "metadata": {
        "id": "fgshHq3dVW2J"
      },
      "source": [
        "%cd '/content/gdrive/My Drive/Inspector/models/research'\n",
        "!protoc object_detection/protos/*.proto --python_out=."
      ],
      "execution_count": null,
      "outputs": []
    },
    {
      "cell_type": "code",
      "metadata": {
        "id": "ZMlRrzpVVWys"
      },
      "source": [
        "import os\n",
        "os.environ['PYTHONPATH'] += ':/content/gdrive/My Drive/Inspector/models/research/:/content/gdrive/My Drive/Inspector/models/research/slim'"
      ],
      "execution_count": 9,
      "outputs": []
    },
    {
      "cell_type": "markdown",
      "metadata": {
        "id": "HQlUBRt2i-z8"
      },
      "source": [
        "Always run the cell below for every session restart"
      ]
    },
    {
      "cell_type": "code",
      "metadata": {
        "id": "uSTazdeuVWb0"
      },
      "source": [
        "!python setup.py build\n",
        "!python setup.py install"
      ],
      "execution_count": null,
      "outputs": []
    },
    {
      "cell_type": "markdown",
      "metadata": {
        "id": "T0SboZDxjHea"
      },
      "source": [
        "Check the remaining time allowed for the session you are runing. Depending on your data try to know the number of hours that will be enough. If the time is lesser then restart the session. NB the time result you see in in hours"
      ]
    },
    {
      "cell_type": "code",
      "metadata": {
        "colab": {
          "base_uri": "https://localhost:8080/"
        },
        "id": "ifNU3ISjYrSj",
        "outputId": "a08901df-d64a-478b-bfc0-04048ef69626"
      },
      "source": [
        "import time, psutil\n",
        "Start = time.time()- psutil.boot_time()\n",
        "Left= 12*3600 - Start\n",
        "print('Time remaining for this session is: ', Left/3600)"
      ],
      "execution_count": 11,
      "outputs": [
        {
          "output_type": "stream",
          "text": [
            "Time remaining for this session is:  11.709801106055577\n"
          ],
          "name": "stdout"
        }
      ]
    },
    {
      "cell_type": "code",
      "metadata": {
        "id": "YDbNmjjsXJYv"
      },
      "source": [
        "%%bash\n",
        "\n",
        "export PROJECT_DIR='/content/gdrive/My Drive/Inspector/models/research/object_detection'\n",
        "\n",
        "# Install COCO API\n",
        "cd $PROJECT_DIR/tf-models\n",
        "git clone https://github.com/cocodataset/cocoapi.git\n",
        "cd cocoapi/PythonAPI\n",
        "make\n",
        "# If there is error, try to specify using python3 as below\n",
        "python3 setup.py build_ext install\n",
        "\n",
        "# Copy compiled modules\n",
        "cp -r pycocotools $PROJECT_DIR/tf-models/research/"
      ],
      "execution_count": null,
      "outputs": []
    },
    {
      "cell_type": "markdown",
      "metadata": {
        "id": "nyVoEWI_juSr"
      },
      "source": [
        "Run Code below to see if all we need for the training has been installed."
      ]
    },
    {
      "cell_type": "code",
      "metadata": {
        "id": "Q20GGC2ibcLW"
      },
      "source": [
        "\n",
        "%cd /content/gdrive/My Drive/Inspector/models/research/object_detection/builders/\n",
        "!python model_builder_test.py"
      ],
      "execution_count": null,
      "outputs": []
    },
    {
      "cell_type": "markdown",
      "metadata": {
        "id": "_gxb4WS0j70_"
      },
      "source": [
        "Change Directory to object detection folder"
      ]
    },
    {
      "cell_type": "code",
      "metadata": {
        "colab": {
          "base_uri": "https://localhost:8080/"
        },
        "id": "vvnplLY3pdfA",
        "outputId": "9b7d32e8-1aa9-49aa-9ef5-0d33dc47e655"
      },
      "source": [
        "%cd /content/gdrive/My Drive/Inspector/models/research/object_detection/"
      ],
      "execution_count": 14,
      "outputs": [
        {
          "output_type": "stream",
          "text": [
            "/content/gdrive/My Drive/Inspector/models/research/object_detection\n"
          ],
          "name": "stdout"
        }
      ]
    },
    {
      "cell_type": "code",
      "metadata": {
        "id": "1zU0Lb1zwKG3"
      },
      "source": [
        "#cp '/content/test.tfrecord' '/content/drive/My Drive/Inspector/models/research/object_detection/data/'"
      ],
      "execution_count": null,
      "outputs": []
    },
    {
      "cell_type": "markdown",
      "metadata": {
        "id": "stRXlkcZkuRr"
      },
      "source": [
        "Get the pre-trained Object detection model from TensorFlow with the code below"
      ]
    },
    {
      "cell_type": "code",
      "metadata": {
        "colab": {
          "base_uri": "https://localhost:8080/"
        },
        "id": "Yl8GkCSfR1sc",
        "outputId": "b095626e-35e2-488d-f2ea-8166c266ae0a"
      },
      "source": [
        "!pwd"
      ],
      "execution_count": 15,
      "outputs": [
        {
          "output_type": "stream",
          "text": [
            "/content/gdrive/My Drive/Inspector/models/research/object_detection\n"
          ],
          "name": "stdout"
        }
      ]
    },
    {
      "cell_type": "code",
      "metadata": {
        "id": "KvmlU68T4Inu"
      },
      "source": [
        "#mv '/content/pipeline.config' '/mydrive/Inspector/models/research/object_detection/training'"
      ],
      "execution_count": 16,
      "outputs": []
    },
    {
      "cell_type": "code",
      "metadata": {
        "id": "--4BbHNBS0mD"
      },
      "source": [
        "#cp -r '/content/gdrive/My Drive/Inspector/Mymodels/object_detection' '/content/gdrive/My Drive/Inspector/models/research/object_detection'"
      ],
      "execution_count": 17,
      "outputs": []
    },
    {
      "cell_type": "markdown",
      "metadata": {
        "id": "EjyRveRKl5yw"
      },
      "source": [
        "ALWAYS CHECK TIME"
      ]
    },
    {
      "cell_type": "code",
      "metadata": {
        "colab": {
          "base_uri": "https://localhost:8080/"
        },
        "id": "NYrSzQ6-DwTC",
        "outputId": "b312a722-9e50-4d21-d572-291e37f50c92"
      },
      "source": [
        "import time, psutil\n",
        "Start = time.time()- psutil.boot_time()\n",
        "Left= 12*3600 - Start\n",
        "print('Time remaining for this session is: ', Left/3600)"
      ],
      "execution_count": 18,
      "outputs": [
        {
          "output_type": "stream",
          "text": [
            "Time remaining for this session is:  11.683574268288083\n"
          ],
          "name": "stdout"
        }
      ]
    },
    {
      "cell_type": "code",
      "metadata": {
        "id": "O4U90SzMl18z"
      },
      "source": [
        "# Current model in use:\n",
        "\n",
        "!wget http://download.tensorflow.org/models/object_detection/ssd_mobilenet_v3_large_coco_2020_01_14.tar.gz\n",
        "!tar -xvf ssd_mobilenet_v3_large_coco_2020_01_14.tar.gz"
      ],
      "execution_count": null,
      "outputs": []
    },
    {
      "cell_type": "code",
      "metadata": {
        "id": "oymBIVddbxnG"
      },
      "source": [
        "\n",
        "\n",
        "#!wget http://download.tensorflow.org/models/object_detection/ssd_mobilenet_v2_quantized_300x300_coco_2019_01_03.tar.gz\n",
        "#!tar -xvf ssd_mobilenet_v2_quantized_300x300_coco_2019_01_03.tar.gz"
      ],
      "execution_count": 20,
      "outputs": []
    },
    {
      "cell_type": "code",
      "metadata": {
        "id": "kLoN3YIhdTQD"
      },
      "source": [
        "#!wget http://download.tensorflow.org/models/object_detection/faster_rcnn_inception_v2_coco_2018_01_28.tar.gz\n",
        "#!tar -xvf faster_rcnn_inception_v2_coco_2018_01_28.tar.gz"
      ],
      "execution_count": 21,
      "outputs": []
    },
    {
      "cell_type": "code",
      "metadata": {
        "id": "30ngkoqSLm8G"
      },
      "source": [
        "!pwd"
      ],
      "execution_count": null,
      "outputs": []
    },
    {
      "cell_type": "markdown",
      "metadata": {
        "id": "z3Hz-nWNqw9l"
      },
      "source": [
        "# Perform training"
      ]
    },
    {
      "cell_type": "markdown",
      "metadata": {
        "id": "MZz99vpSiJwR"
      },
      "source": [
        "# Tensorboard"
      ]
    },
    {
      "cell_type": "code",
      "metadata": {
        "id": "sBofmRM0iNUJ"
      },
      "source": [
        "!wget https://bin.equinox.io/c/4VmDzA7iaHb/ngrok-stable-linux-amd64.zip\n",
        "!unzip -o ngrok-stable-linux-amd64.zip"
      ],
      "execution_count": null,
      "outputs": []
    },
    {
      "cell_type": "code",
      "metadata": {
        "id": "U7weIPNPIp63"
      },
      "source": [
        "model_dir = 'training/'\n",
        "LOG_DIR = model_dir\n",
        "get_ipython().system_raw(\n",
        "    'tensorboard --logdir {} --host 0.0.0.0 --port 6006 &'\n",
        "    .format(LOG_DIR)\n",
        ")\n",
        "get_ipython().system_raw('./ngrok http 6006 &')"
      ],
      "execution_count": 24,
      "outputs": []
    },
    {
      "cell_type": "code",
      "metadata": {
        "colab": {
          "base_uri": "https://localhost:8080/"
        },
        "id": "ADRjzIeqim0I",
        "outputId": "289abd92-72a4-42c5-be79-2500e4964aaf"
      },
      "source": [
        "! curl -s http://localhost:4040/api/tunnels | python3 -c \\\n",
        "    \"import sys, json; print(json.load(sys.stdin)['tunnels'][0]['public_url'])\"#"
      ],
      "execution_count": 25,
      "outputs": [
        {
          "output_type": "stream",
          "text": [
            "https://38a00da269eb.ngrok.io\n"
          ],
          "name": "stdout"
        }
      ]
    },
    {
      "cell_type": "markdown",
      "metadata": {
        "id": "zzKZ-e-smUtE"
      },
      "source": [
        "Ensure to run the code cell below first"
      ]
    },
    {
      "cell_type": "code",
      "metadata": {
        "id": "whn-YfyYKtJK"
      },
      "source": [
        "%load_ext tensorboard"
      ],
      "execution_count": 26,
      "outputs": []
    },
    {
      "cell_type": "markdown",
      "metadata": {
        "id": "l89biRJ_Y6S5"
      },
      "source": [
        ""
      ]
    },
    {
      "cell_type": "markdown",
      "metadata": {
        "id": "f-FFYE0XmfgM"
      },
      "source": [
        "IF you want to keep track of your model loss it best to run tensor board in background just like this before you run your training"
      ]
    },
    {
      "cell_type": "code",
      "metadata": {
        "id": "bwmM54OdJLRL"
      },
      "source": [
        "%tensorboard --logdir training/"
      ],
      "execution_count": null,
      "outputs": []
    },
    {
      "cell_type": "code",
      "metadata": {
        "id": "lCEVsD7x8zXP"
      },
      "source": [
        "!ln -s \"/content/gdrive/My Drive\" /Thisdrive"
      ],
      "execution_count": 28,
      "outputs": []
    },
    {
      "cell_type": "code",
      "metadata": {
        "colab": {
          "base_uri": "https://localhost:8080/"
        },
        "id": "4aaBpMlW7Bfx",
        "outputId": "58966543-f77d-40b2-d9c9-8ba59dcabe12"
      },
      "source": [
        "cd '/Thisdrive/Inspector/models/research/object_detection/'"
      ],
      "execution_count": 29,
      "outputs": [
        {
          "output_type": "stream",
          "text": [
            "/content/gdrive/My Drive/Inspector/models/research/object_detection\n"
          ],
          "name": "stdout"
        }
      ]
    },
    {
      "cell_type": "code",
      "metadata": {
        "colab": {
          "base_uri": "https://localhost:8080/"
        },
        "id": "wdnI9qLj65Ks",
        "outputId": "640ddec1-c3c9-4a3d-85f9-2caf82ecc33e"
      },
      "source": [
        "!pwd"
      ],
      "execution_count": 30,
      "outputs": [
        {
          "output_type": "stream",
          "text": [
            "/content/gdrive/My Drive/Inspector/models/research/object_detection\n"
          ],
          "name": "stdout"
        }
      ]
    },
    {
      "cell_type": "code",
      "metadata": {
        "id": "HpnDlROmCg-B",
        "colab": {
          "base_uri": "https://localhost:8080/"
        },
        "outputId": "d6a5268a-e1e1-40c0-ccc1-110cfb701909"
      },
      "source": [
        "cp '/content/gdrive/My Drive/Inspector/models/research/object_detection/faster_rcnn_inception_v2_coco_2018_01_28/model.ckpt.data-00000-of-00001' '/Thisdrive/Inspector/models/research/object_detection/training/'"
      ],
      "execution_count": 31,
      "outputs": [
        {
          "output_type": "stream",
          "text": [
            "cp: cannot stat '/content/gdrive/My Drive/Inspector/models/research/object_detection/faster_rcnn_inception_v2_coco_2018_01_28/model.ckpt.data-00000-of-00001': No such file or directory\n"
          ],
          "name": "stdout"
        }
      ]
    },
    {
      "cell_type": "code",
      "metadata": {
        "id": "45cD0EoqEFtX"
      },
      "source": [
        "PATH_TO_ANNOTATIONS_FOLDER = '/content/drive/My Drive/Inspector/models/research/object_detection/data'"
      ],
      "execution_count": 32,
      "outputs": []
    },
    {
      "cell_type": "code",
      "metadata": {
        "id": "5PNi94xVELvB"
      },
      "source": [
        "!python3 generate_tfrecord.py --csv_input=data/test_labels.csv  --output_path=data/test.tfrecord  --img_path=Images/test"
      ],
      "execution_count": null,
      "outputs": []
    },
    {
      "cell_type": "markdown",
      "metadata": {
        "id": "PjD-Lcw7mzeY"
      },
      "source": [
        "Ensure to copy train.py file from Legacy folder in your google drive to the object detection folder itself before runnning the cell below"
      ]
    },
    {
      "cell_type": "code",
      "metadata": {
        "id": "3bC6POQKfV1L"
      },
      "source": [
        "pipeline_config_path='/mydrive/Inspector/models/research/object_detection/pipeline.config'"
      ],
      "execution_count": 35,
      "outputs": []
    },
    {
      "cell_type": "markdown",
      "metadata": {
        "id": "VvDdlUWfh8iC"
      },
      "source": [
        "# Launch the training!!"
      ]
    },
    {
      "cell_type": "code",
      "metadata": {
        "id": "-D1emztmjtqQ"
      },
      "source": [
        "#python model_main.py --alsologtostderr --model_dir=training/ --pipeline_config_path=training/ssd_inception_v2_coco.config"
      ],
      "execution_count": null,
      "outputs": []
    },
    {
      "cell_type": "code",
      "metadata": {
        "id": "oxw70Apxe3GF"
      },
      "source": [
        "!python model_main.py --alsologtostderr --model_dir='/content/gdrive/My Drive/Inspector/models/research/object_detection/faster_rcnn_inception_v2_coco_2018_01_28/' --pipeline_config_path='/content/gdrive/My Drive/Inspector/models/research/object_detection/training/Newpipeline2.config'"
      ],
      "execution_count": null,
      "outputs": []
    },
    {
      "cell_type": "code",
      "metadata": {
        "id": "eydPX3kZgXyK"
      },
      "source": [
        "tf.train.list_variables('/content/gdrive/My Drive/Inspector/models/research/object_detection/ssd_mobilenet_v1_0.75_depth_300x300_coco14_sync_2018_07_03/')"
      ],
      "execution_count": null,
      "outputs": []
    },
    {
      "cell_type": "markdown",
      "metadata": {
        "id": "gb_e0zAKnKbY"
      },
      "source": [
        "#Exporting inference graph"
      ]
    },
    {
      "cell_type": "code",
      "metadata": {
        "id": "RYX4Ixm8DINT"
      },
      "source": [
        "!python export_inference_graph.py --input_type image_tensor --pipeline_config_path /Thisdrive/Inspector/models/research/object_detection/training/ssdv3pipeline.config --trained_checkpoint_prefix training/model.ckpt-182132 --output_directory trained_inference_graph/"
      ],
      "execution_count": null,
      "outputs": []
    },
    {
      "cell_type": "markdown",
      "metadata": {
        "id": "IdKB9O17nUY_"
      },
      "source": [
        "##ZIPPing the EXported graph"
      ]
    },
    {
      "cell_type": "code",
      "metadata": {
        "id": "bqxL9ArYa5EF"
      },
      "source": [
        "from google.colab import drive\n",
        "drive.mount('/content/drive')"
      ],
      "execution_count": null,
      "outputs": []
    },
    {
      "cell_type": "code",
      "metadata": {
        "id": "QdGuXwtkGDOR"
      },
      "source": [
        "!zip -r ssdv3_180k_graph.zip trained_inference_graph"
      ],
      "execution_count": null,
      "outputs": []
    },
    {
      "cell_type": "code",
      "metadata": {
        "id": "f3IALxOOtXq6"
      },
      "source": [
        ""
      ],
      "execution_count": null,
      "outputs": []
    },
    {
      "cell_type": "markdown",
      "metadata": {
        "id": "PGC7imfbnaVB"
      },
      "source": [
        "#LETS TEST OUR MODEL AND SEE RESULT\n",
        "\n",
        "> Copy about 9 images in the test_images folder and rename each to imagesX.jpg with X being a number from 1 to 9 before running the code below.\n",
        "\n"
      ]
    },
    {
      "cell_type": "code",
      "metadata": {
        "id": "XgBUfD_6jf_B"
      },
      "source": [
        "cp '/content/gdrive/My Drive/Inspector/models/research/object_detection/Images/test/toSortIMG_1598.jpg' '/content/gdrive/My Drive/Inspector/models/research/object_detection/test_images/'"
      ],
      "execution_count": 37,
      "outputs": []
    },
    {
      "cell_type": "code",
      "metadata": {
        "id": "lltNtdzzEk1A"
      },
      "source": [
        "import numpy as np\n",
        "import os\n",
        "import six.moves.urllib as urllib\n",
        "import sys\n",
        "import tarfile\n",
        "import tensorflow as tf\n",
        "import zipfile\n",
        "\n",
        "from distutils.version import StrictVersion\n",
        "from collections import defaultdict\n",
        "from io import StringIO\n",
        "from matplotlib import pyplot as plt\n",
        "from PIL import Image\n",
        "\n",
        "# This is needed since the notebook is stored in the object_detection folder.\n",
        "sys.path.append(\"..\")\n",
        "from object_detection.utils import ops as utils_ops\n",
        "from object_detection.utils import label_map_util\n",
        "from object_detection.utils import visualization_utils as vis_util\n",
        "\n",
        "\n",
        "\n",
        "### Model preparation variable\n",
        "MODEL_NAME = 'trained_inference_graph'\n",
        "PATH_TO_FROZEN_GRAPH = MODEL_NAME + '/frozen_inference_graph.pb'\n",
        "PATH_TO_LABELS = '/content/gdrive/My Drive/Inspector/models/research/object_detection/training/label_mapTwo.pbtxt'\n",
        "NUM_CLASSES = 2 #remember number of objects you are training? cool.\n",
        "\n",
        "\n",
        "### Load a (frozen) Tensorflow model into memory.\n",
        "detection_graph = tf.Graph()\n",
        "with detection_graph.as_default():\n",
        "  od_graph_def = tf.GraphDef()\n",
        "  with tf.gfile.GFile(PATH_TO_FROZEN_GRAPH, 'rb') as fid:\n",
        "    serialized_graph = fid.read()\n",
        "    od_graph_def.ParseFromString(serialized_graph)\n",
        "    tf.import_graph_def(od_graph_def, name='')\n",
        "\n",
        "\n",
        "###Loading label map\n",
        "category_index = label_map_util.create_category_index_from_labelmap(PATH_TO_LABELS, use_display_name=True)\n",
        "\n",
        "\n",
        "\n",
        "\n",
        "### Load image into numpy function\n",
        "def load_image_into_numpy_array(image):\n",
        "  (im_width, im_height) = image.size\n",
        "  return np.array(image.getdata()).reshape(\n",
        "      (im_height, im_width, 3)).astype(np.uint8)\n",
        "\n",
        "\n",
        "\n",
        "\n",
        "###STATING THE PATH TO IMAGES TO BE TESTED\n",
        "PATH_TO_TEST_IMAGES_DIR = 'test_images/'\n",
        "TEST_IMAGE_PATHS = [ os.path.join(PATH_TO_TEST_IMAGES_DIR, 'images{}.jpg'.format(i)) for i in range(1, 14) ]\n",
        "IMAGE_SIZE = (12, 8)\n",
        "\n",
        "\n",
        "\n",
        "\n",
        "### Function to run inference on a single image which will later be used in an iteration\n",
        "def run_inference_for_single_image(image, graph):\n",
        "  with graph.as_default():\n",
        "    with tf.Session() as sess:\n",
        "      # Get handles to input and output tensors\n",
        "      ops = tf.get_default_graph().get_operations()\n",
        "      all_tensor_names = {output.name for op in ops for output in op.outputs}\n",
        "      tensor_dict = {}\n",
        "      for key in [\n",
        "          'num_detections', 'detection_boxes', 'detection_scores',\n",
        "          'detection_classes', 'detection_masks'\n",
        "      ]:\n",
        "        tensor_name = key + ':0'\n",
        "        if tensor_name in all_tensor_names:\n",
        "          tensor_dict[key] = tf.get_default_graph().get_tensor_by_name(\n",
        "              tensor_name)\n",
        "      if 'detection_masks' in tensor_dict:\n",
        "        # The following processing is only for single image\n",
        "        detection_boxes = tf.squeeze(tensor_dict['detection_boxes'], [0])\n",
        "        detection_masks = tf.squeeze(tensor_dict['detection_masks'], [0])\n",
        "        # Reframe is required to translate mask from box coordinates to image coordinates and fit the image size.\n",
        "        real_num_detection = tf.cast(tensor_dict['num_detections'][0], tf.int32)\n",
        "        detection_boxes = tf.slice(detection_boxes, [0, 0], [real_num_detection, -1])\n",
        "        detection_masks = tf.slice(detection_masks, [0, 0, 0], [real_num_detection, -1, -1])\n",
        "        detection_masks_reframed = utils_ops.reframe_box_masks_to_image_masks(\n",
        "            detection_masks, detection_boxes, image.shape[1], image.shape[2])\n",
        "        detection_masks_reframed = tf.cast(\n",
        "            tf.greater(detection_masks_reframed, 0.8), tf.uint8)\n",
        "        # Follow the convention by adding back the batch dimension\n",
        "        tensor_dict['detection_masks'] = tf.expand_dims(\n",
        "            detection_masks_reframed, 0)\n",
        "      image_tensor = tf.get_default_graph().get_tensor_by_name('image_tensor:0')\n",
        "\n",
        "      # Run inference\n",
        "      output_dict = sess.run(tensor_dict,\n",
        "                             feed_dict={image_tensor: image})\n",
        "\n",
        "      # all outputs are float32 numpy arrays, so convert types as appropriate\n",
        "      output_dict['num_detections'] = int(output_dict['num_detections'][0])\n",
        "      output_dict['detection_classes'] = output_dict[\n",
        "          'detection_classes'][0].astype(np.int64)\n",
        "      output_dict['detection_boxes'] = output_dict['detection_boxes'][0]\n",
        "      output_dict['detection_scores'] = output_dict['detection_scores'][0]\n",
        "      if 'detection_masks' in output_dict:\n",
        "        output_dict['detection_masks'] = output_dict['detection_masks'][0]\n",
        "  return output_dict\n",
        "\n",
        "\n",
        "\n",
        "### To iterate on each image in the test image path defined \n",
        "### NB define the range of numbers and let it match the number of imAGES IN TEST FOLDER +1\n",
        "for image_path in TEST_IMAGE_PATHS:\n",
        "  image = Image.open(image_path)\n",
        "  # the array based representation of the image will be used later in order to prepare the\n",
        "  # result image with boxes and labels on it.\n",
        "  image_np = load_image_into_numpy_array(image)\n",
        "  # Expand dimensions since the model expects images to have shape: [1, None, None, 3]\n",
        "  image_np_expanded = np.expand_dims(image_np, axis=0)\n",
        "  # Actual detection.\n",
        "  output_dict = run_inference_for_single_image(image_np_expanded, detection_graph)\n",
        "  # Visualization of the results of a detection.\n",
        "  vis_util.visualize_boxes_and_labels_on_image_array(\n",
        "      image_np,\n",
        "      output_dict['detection_boxes'],\n",
        "      output_dict['detection_classes'],\n",
        "      output_dict['detection_scores'],\n",
        "      category_index,\n",
        "      instance_masks=output_dict.get('detection_masks'),\n",
        "      use_normalized_coordinates=True,\n",
        "      line_thickness=1)\n",
        "  display(Image.fromarray(image_np))\n",
        "  \n",
        "\n"
      ],
      "execution_count": null,
      "outputs": []
    },
    {
      "cell_type": "code",
      "metadata": {
        "id": "70ZBaGWmlf1_"
      },
      "source": [
        ""
      ],
      "execution_count": null,
      "outputs": []
    },
    {
      "cell_type": "markdown",
      "metadata": {
        "id": "rPAJwA5Xmhnh"
      },
      "source": [
        "# Results of testing the zipped model.\n",
        "\n",
        "copied 9 of the test images  all ones with xml files so must have annotations.\n",
        "\n",
        "The results were very good - predicted wallcracks and flaking paint (one error was saying Lola's shoes were flaking paint!)\n",
        "\n",
        "Wallcrack was not as good as it idnetified a curved joint (that does look a bit like a crack but isn't) on the coving as a crack."
      ]
    },
    {
      "cell_type": "markdown",
      "metadata": {
        "id": "PQ-BV6eg6dPu"
      },
      "source": [
        "Did the following to get the above:\n",
        "1. got rid of all woodDamage and chippedPaint images and annotations\n",
        "2. removed images that have no objects\n",
        "3. took 72 new photos of my house with just flakingpaint and wallcracks\n",
        "4. annotated these new ones and merged with the old train folder\n",
        "5. created new csv files."
      ]
    },
    {
      "cell_type": "markdown",
      "metadata": {
        "id": "gv0JXuUWp4wV"
      },
      "source": [
        "having trained ssd v2 for 100k steps and getting to about a loss of 2.  Next is to try and and put it in an App."
      ]
    },
    {
      "cell_type": "code",
      "metadata": {
        "id": "o8zfS2foaQE2"
      },
      "source": [
        ""
      ],
      "execution_count": null,
      "outputs": []
    },
    {
      "cell_type": "markdown",
      "metadata": {
        "id": "8gz8NWo2RIm-"
      },
      "source": [
        "# Make it Mobile"
      ]
    },
    {
      "cell_type": "code",
      "metadata": {
        "id": "3_b81PlR6cUR"
      },
      "source": [
        "!export CONFIG_FILE='/Thisdrive/Inspector/models/research/object_detection/training/ssdv3pipeline.config'"
      ],
      "execution_count": null,
      "outputs": []
    },
    {
      "cell_type": "code",
      "metadata": {
        "id": "Rx7bt87wZ79J"
      },
      "source": [
        "!export CHECKPOINT_PATH='/content/gdrive/My Drive/Inspector/models/research/object_detection/training/model.ckpt-182132'"
      ],
      "execution_count": null,
      "outputs": []
    },
    {
      "cell_type": "code",
      "metadata": {
        "id": "nf8ANVA3aeXU"
      },
      "source": [
        "!export OUTPUT_DIR=/tmp/tflite"
      ],
      "execution_count": null,
      "outputs": []
    },
    {
      "cell_type": "code",
      "metadata": {
        "id": "8i5I1tpwdcD3"
      },
      "source": [
        "BAZEL_VERSION = '0.25.2'"
      ],
      "execution_count": null,
      "outputs": []
    },
    {
      "cell_type": "code",
      "metadata": {
        "id": "cXIGTuY3ddjY"
      },
      "source": [
        "!wget https://github.com/bazelbuild/bazel/releases/download/{BAZEL_VERSION}/bazel-{BAZEL_VERSION}-installer-linux-x86_64.sh"
      ],
      "execution_count": null,
      "outputs": []
    },
    {
      "cell_type": "code",
      "metadata": {
        "id": "opshTzBWddny"
      },
      "source": [
        "!chmod +x bazel-{BAZEL_VERSION}-installer-linux-x86_64.sh"
      ],
      "execution_count": null,
      "outputs": []
    },
    {
      "cell_type": "code",
      "metadata": {
        "id": "YgNgVo3Fd4Y9"
      },
      "source": [
        "!./bazel-{BAZEL_VERSION}-installer-linux-x86_64.sh"
      ],
      "execution_count": null,
      "outputs": []
    },
    {
      "cell_type": "code",
      "metadata": {
        "id": "v90MuHjHd-2x"
      },
      "source": [
        "!sudo apt install python-dev python-pip"
      ],
      "execution_count": null,
      "outputs": []
    },
    {
      "cell_type": "code",
      "metadata": {
        "id": "xr3QcUlKoWpy"
      },
      "source": [
        "#!git clone https://github.com/tensorflow/tensorflow.git\n",
        "#%cd tensorflow"
      ],
      "execution_count": null,
      "outputs": []
    },
    {
      "cell_type": "code",
      "metadata": {
        "id": "zqLDwR8VoWuM"
      },
      "source": [
        "#!python ./configure.py\n"
      ],
      "execution_count": null,
      "outputs": []
    },
    {
      "cell_type": "code",
      "metadata": {
        "colab": {
          "base_uri": "https://localhost:8080/",
          "height": 34
        },
        "id": "BSR56agdyyLi",
        "outputId": "1f54a12c-96e6-4c05-c732-8aae9a91178e"
      },
      "source": [
        "#%cd tensorflow"
      ],
      "execution_count": null,
      "outputs": [
        {
          "output_type": "stream",
          "text": [
            "/content/gdrive/My Drive/Inspector/models/research/object_detection/tensorflow\n"
          ],
          "name": "stdout"
        }
      ]
    },
    {
      "cell_type": "code",
      "metadata": {
        "colab": {
          "base_uri": "https://localhost:8080/",
          "height": 54
        },
        "id": "TAtr3fCcd-6i",
        "outputId": "8c9154fd-4f9b-41cc-b803-46db250e53ea"
      },
      "source": [
        "#!bazel build --config=v1 /Thisdrive/Inspector/models/research/object_detection/tensorflow/tools/pip_package:build_pip_package "
      ],
      "execution_count": null,
      "outputs": [
        {
          "output_type": "stream",
          "text": [
            "ERROR: bazel does not currently work properly from paths containing spaces (com.google.devtools.build.lib.runtime.BlazeWorkspace@3ab6523a).\n"
          ],
          "name": "stdout"
        }
      ]
    },
    {
      "cell_type": "code",
      "metadata": {
        "id": "ZyOgmaxayhLu"
      },
      "source": [
        "#!bazel build -c opt --config=android_arm{,64} --cxxopt='--std=c++11' \\\n",
        "//tensorflow/lite/examples/android:tflite_demo"
      ],
      "execution_count": null,
      "outputs": []
    },
    {
      "cell_type": "code",
      "metadata": {
        "id": "4d5pHiobY4pL"
      },
      "source": [
        "!python export_tflite_ssd_graph.py --pipeline_config_path='/Thisdrive/Inspector/models/research/object_detection/training/ssdv3pipeline.config' \\\n",
        "--trained_checkpoint_prefix='/content/gdrive/My Drive/Inspector/models/research/object_detection/training/model.ckpt-182132' \\\n",
        "--output_directory=/Thisdrive/Inspector/models/research/object_detection/tflite \\\n",
        "--add_postprocessing_op=true"
      ],
      "execution_count": null,
      "outputs": []
    },
    {
      "cell_type": "code",
      "metadata": {
        "id": "whBupb622Ju9"
      },
      "source": [
        "#%cd tensorflow/"
      ],
      "execution_count": null,
      "outputs": []
    },
    {
      "cell_type": "code",
      "metadata": {
        "id": "4gDDCTNlbg0q"
      },
      "source": [
        "#!bazel run -c opt tensorflow/contrib/lite/toco:toco\n"
      ],
      "execution_count": null,
      "outputs": []
    },
    {
      "cell_type": "code",
      "metadata": {
        "id": "sQnrSsrGmwtQ"
      },
      "source": [
        "!toco \\\n",
        " --graph_def_file='/Thisdrive/Inspector/models/research/object_detection/tflite/tflite_graph.pb' \\\n",
        " --output_file='/Thisdrive/Inspector/models/research/object_detection/tflite/detectv3.tflite' \\\n",
        " --input_shapes=1,300,300,3 \\\n",
        " --input_arrays=normalized_input_image_tensor \\\n",
        " --output_arrays='TFLite_Detection_PostProcess','TFLite_Detection_PostProcess:1','TFLite_Detection_PostProcess:2','TFLite_Detection_PostProcess:3' \\\n",
        " --inference_type=FLOAT \\\n",
        " --allow_custom_ops"
      ],
      "execution_count": null,
      "outputs": []
    },
    {
      "cell_type": "markdown",
      "metadata": {
        "id": "rVexa1kn4bbw"
      },
      "source": [
        "https://medium.com/datadriveninvestor/how-to-train-your-own-custom-model-with-tensorflow-object-detection-api-and-deploy-it-into-android-aeacab7fa76f\n"
      ]
    }
  ]
}